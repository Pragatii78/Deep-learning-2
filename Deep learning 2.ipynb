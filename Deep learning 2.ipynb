{
 "cells": [
  {
   "cell_type": "code",
   "execution_count": 1,
   "id": "1c751938",
   "metadata": {},
   "outputs": [
    {
     "name": "stdout",
     "output_type": "stream",
     "text": [
      "Requirement already satisfied: opencv-python in c:\\users\\deo pragati\\anaconda3\\lib\\site-packages (4.9.0.80)\n",
      "Requirement already satisfied: numpy>=1.21.2 in c:\\users\\deo pragati\\anaconda3\\lib\\site-packages (from opencv-python) (1.24.3)\n",
      "Note: you may need to restart the kernel to use updated packages.\n"
     ]
    }
   ],
   "source": [
    "pip install opencv-python"
   ]
  },
  {
   "cell_type": "code",
   "execution_count": 2,
   "id": "d9e1de3c",
   "metadata": {},
   "outputs": [],
   "source": [
    "import cv2\n",
    "import numpy as np"
   ]
  },
  {
   "cell_type": "code",
   "execution_count": 3,
   "id": "6b146a44",
   "metadata": {},
   "outputs": [],
   "source": [
    "image = cv2.imread(\"demo_face.jpg\",0)"
   ]
  },
  {
   "cell_type": "code",
   "execution_count": 4,
   "id": "76e70182",
   "metadata": {},
   "outputs": [],
   "source": [
    "cv2.imshow(\"image\", image)\n",
    "cv2.waitKey(0)\n",
    "cv2.destroyAllWindows()"
   ]
  },
  {
   "cell_type": "code",
   "execution_count": 5,
   "id": "e6416097",
   "metadata": {},
   "outputs": [],
   "source": [
    "image = cv2.imread(\"demo_face.jpg\")\n",
    "\n",
    "# Print error message if image is null\n",
    "if image is None:\n",
    "    print('Could not read image')\n",
    "\n",
    "# Apply identity kernel\n",
    "kernel1 = np.array([[-7, 0, 7],\n",
    "                    [-7, 0, 7],\n",
    "                    [-7, 0, 7]])\n",
    "\n",
    "identity = cv2.filter2D(src=image,  ddepth=-1,kernel=kernel1)\n",
    "\n",
    "\n",
    "cv2.imshow('Original', image)\n",
    "cv2.imshow('Identity', identity)\n",
    "    \n",
    "cv2.waitKey()\n",
    "cv2.imwrite('identity.jpg', identity)\n",
    "cv2.destroyAllWindows()"
   ]
  },
  {
   "cell_type": "code",
   "execution_count": 6,
   "id": "68d9ffce",
   "metadata": {},
   "outputs": [],
   "source": [
    "cv2.imshow('Original', image)\n",
    "cv2.imshow('Identity', identity)\n",
    "    \n",
    "cv2.waitKey()\n",
    "cv2.imwrite('identity.jpg', identity)\n",
    "cv2.destroyAllWindows()"
   ]
  },
  {
   "cell_type": "code",
   "execution_count": 7,
   "id": "404c8274",
   "metadata": {},
   "outputs": [],
   "source": [
    "# Apply blurring kernel\n",
    "kernel2 = np.ones((5, 5), np.float32) / 25\n",
    "img = cv2.filter2D(src=image, ddepth=-1, kernel=kernel2)\n",
    "\n",
    "cv2.imshow('Original', image)\n",
    "cv2.imshow('Kernel Blur', img)\n",
    "    \n",
    "cv2.waitKey()\n",
    "cv2.imwrite('blur_kernel.jpg', img)\n",
    "cv2.destroyAllWindows()"
   ]
  },
  {
   "cell_type": "code",
   "execution_count": 8,
   "id": "6b04b32a",
   "metadata": {},
   "outputs": [],
   "source": [
    "b,g,r=cv2.split(image)"
   ]
  },
  {
   "cell_type": "code",
   "execution_count": 9,
   "id": "36978974",
   "metadata": {},
   "outputs": [],
   "source": [
    "g=b//2"
   ]
  },
  {
   "cell_type": "code",
   "execution_count": 10,
   "id": "d810c06f",
   "metadata": {},
   "outputs": [
    {
     "data": {
      "text/plain": [
       "array([[85, 85, 85, ..., 82, 81, 81],\n",
       "       [85, 85, 86, ..., 83, 82, 82],\n",
       "       [86, 86, 86, ..., 84, 83, 83],\n",
       "       ...,\n",
       "       [ 0,  0,  0, ...,  6,  7,  9],\n",
       "       [24, 29, 34, ...,  6,  7, 10],\n",
       "       [30, 34, 38, ...,  0,  0,  3]], dtype=uint8)"
      ]
     },
     "execution_count": 10,
     "metadata": {},
     "output_type": "execute_result"
    }
   ],
   "source": [
    "g"
   ]
  },
  {
   "cell_type": "code",
   "execution_count": 11,
   "id": "8e26a1df",
   "metadata": {},
   "outputs": [],
   "source": [
    "img=cv2.merge((r,b,g))"
   ]
  },
  {
   "cell_type": "code",
   "execution_count": null,
   "id": "fe0b0d8e",
   "metadata": {},
   "outputs": [],
   "source": [
    "cv2.imshow('Original', img)\n",
    "cv2.waitKey()\n",
    "cv2.destroyAllWindows()"
   ]
  },
  {
   "cell_type": "code",
   "execution_count": null,
   "id": "7176fa77",
   "metadata": {},
   "outputs": [],
   "source": []
  }
 ],
 "metadata": {
  "kernelspec": {
   "display_name": "Python 3 (ipykernel)",
   "language": "python",
   "name": "python3"
  },
  "language_info": {
   "codemirror_mode": {
    "name": "ipython",
    "version": 3
   },
   "file_extension": ".py",
   "mimetype": "text/x-python",
   "name": "python",
   "nbconvert_exporter": "python",
   "pygments_lexer": "ipython3",
   "version": "3.11.5"
  }
 },
 "nbformat": 4,
 "nbformat_minor": 5
}
